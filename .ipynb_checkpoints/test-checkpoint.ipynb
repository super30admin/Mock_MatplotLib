{
 "cells": [
  {
   "cell_type": "code",
   "execution_count": 1,
   "metadata": {},
   "outputs": [],
   "source": [
    "import pandas as pd\n",
    "\n",
    "data = pd.read_csv(\"travel.csv\")"
   ]
  },
  {
   "cell_type": "code",
   "execution_count": 2,
   "metadata": {},
   "outputs": [
    {
     "name": "stdout",
     "output_type": "stream",
     "text": [
      "    Month Destination  Travelers  Revenue\n",
      "0     Jan       Paris       1000   150000\n",
      "1     Jan        Rome        800   120000\n",
      "2     Feb       Paris       1100   165000\n",
      "3     Feb        Rome        900   135000\n",
      "4     Mar       Paris       1200   180000\n",
      "..    ...         ...        ...      ...\n",
      "115   Oct      Sydney       1400   210000\n",
      "116   Nov       Tokyo       1100   165000\n",
      "117   Nov      Sydney       1450   217500\n",
      "118   Dec       Tokyo       1050   157500\n",
      "119   Dec      Sydney       1500   225000\n",
      "\n",
      "[120 rows x 4 columns]\n"
     ]
    }
   ],
   "source": [
    "print(data)"
   ]
  },
  {
   "cell_type": "code",
   "execution_count": null,
   "metadata": {},
   "outputs": [],
   "source": []
  }
 ],
 "metadata": {
  "kernelspec": {
   "display_name": "Python 3 (ipykernel)",
   "language": "python",
   "name": "python3"
  },
  "language_info": {
   "codemirror_mode": {
    "name": "ipython",
    "version": 3
   },
   "file_extension": ".py",
   "mimetype": "text/x-python",
   "name": "python",
   "nbconvert_exporter": "python",
   "pygments_lexer": "ipython3",
   "version": "3.11.5"
  }
 },
 "nbformat": 4,
 "nbformat_minor": 2
}
